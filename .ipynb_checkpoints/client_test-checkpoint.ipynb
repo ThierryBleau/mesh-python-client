{
 "cells": [
  {
   "cell_type": "code",
   "execution_count": 1,
   "metadata": {},
   "outputs": [],
   "source": [
    "from gql import Client, gql\n",
    "from gql.transport.requests import RequestsHTTPTransport\n",
    "import pandas as pd\n",
    "from datetime import datetime\n",
    "\n",
    "class MeshClient():\n",
    "    def __init__(self):\n",
    "        self._transport = RequestsHTTPTransport(url=\"https://merfi.xyz/graphql\",verify=True, retries=3)\n",
    "        self._gql_client = Client(transport=self._transport, fetch_schema_from_transport=True)\n",
    "        self._engine_query = gql('''\n",
    "        query getEngineResult ($expr: String!, $tstart: String, $tend: String, $interval_unit: intervalUnit!, $n: Int) {\n",
    "          engine(expr: $expr, range: { from: $tstart, to: $tend}, interval: { unit: $interval_unit, n: $n}) {\n",
    "            __typename,\n",
    "            ...on DSLScalar {\n",
    "              value\n",
    "            }\n",
    "            ...on DSLTimeseries {\n",
    "              values {\n",
    "                timestamp,\n",
    "                value\n",
    "              }\n",
    "            }\n",
    "            ...on DSLError {\n",
    "              message\n",
    "            }\n",
    "          }\n",
    "        }\n",
    "        ''')\n",
    "        self._search_query = gql('''\n",
    "        query search($search_str: String!) {\n",
    "          search(searchStr: $search_str) {\n",
    "            ...on basicToken {\n",
    "              symbol\n",
    "              name\n",
    "              address\n",
    "            }\n",
    "            ...on optionToken {\n",
    "              premium {\n",
    "                symbol\n",
    "              }\n",
    "              name\n",
    "              address\n",
    "            }\n",
    "            ...on virtualToken {\n",
    "              symbol\n",
    "              name\n",
    "            }\n",
    "            ...on uniswapPair {\n",
    "              name\n",
    "              address\n",
    "              token0Price {\n",
    "                symbol\n",
    "              }\n",
    "            }\n",
    "            ...on aggregatePair {\n",
    "              name\n",
    "            }\n",
    "          }\n",
    "        }\n",
    "        ''')\n",
    "    \n",
    "    def engine(self,mesh_string,time_start=None,time_end=None,unit=\"MINUTE\",number=15):\n",
    "        if time_start is None:\n",
    "            time_start = str(int((datetime.now().timestamp() - 3*86400)))\n",
    "        if time_end is None:\n",
    "            time_end = str(int(datetime.now().timestamp()))\n",
    "        params = {\n",
    "            \"expr\":mesh_string,\n",
    "            \"tstart\":time_start,\n",
    "            \"tend\":time_end,\n",
    "            \"interval_unit\": unit,\n",
    "            \"n\":number\n",
    "        }\n",
    "        print(params)\n",
    "        self.result = self._gql_client.execute(self._engine_query,variable_values=params)\n",
    "    \n",
    "    def search(self,search_string):\n",
    "        if search_string == \"\":\n",
    "            return None\n",
    "        else:\n",
    "            result = self._gql_client.execute(self._search_query,variable_values={\"search_str\":search_string})\n",
    "            return result\n",
    "        \n",
    "        "
   ]
  },
  {
   "cell_type": "code",
   "execution_count": 2,
   "metadata": {},
   "outputs": [],
   "source": [
    "mc = MeshClient()"
   ]
  },
  {
   "cell_type": "code",
   "execution_count": 3,
   "metadata": {},
   "outputs": [
    {
     "name": "stdout",
     "output_type": "stream",
     "text": [
      "{'expr': '$UNIV2.DPI_WETH.DPI_PRICE', 'tstart': '1609966326', 'tend': '1609707126', 'interval_unit': 'MINUTE', 'n': 15}\n"
     ]
    }
   ],
   "source": [
    "mc.engine(\"$UNIV2.DPI_WETH.DPI_PRICE\")"
   ]
  },
  {
   "cell_type": "code",
   "execution_count": 4,
   "metadata": {},
   "outputs": [
    {
     "data": {
      "text/plain": [
       "{'engine': {'__typename': 'DSLTimeseries', 'values': []}}"
      ]
     },
     "execution_count": 4,
     "metadata": {},
     "output_type": "execute_result"
    }
   ],
   "source": [
    "mc.result"
   ]
  },
  {
   "cell_type": "code",
   "execution_count": 5,
   "metadata": {},
   "outputs": [
    {
     "data": {
      "text/plain": [
       "{'engine': {'__typename': 'DSLTimeseries', 'values': []}}"
      ]
     },
     "execution_count": 5,
     "metadata": {},
     "output_type": "execute_result"
    }
   ],
   "source": [
    "mc.result"
   ]
  },
  {
   "cell_type": "code",
   "execution_count": null,
   "metadata": {},
   "outputs": [],
   "source": []
  }
 ],
 "metadata": {
  "kernelspec": {
   "display_name": "Python 3",
   "language": "python",
   "name": "python3"
  },
  "language_info": {
   "codemirror_mode": {
    "name": "ipython",
    "version": 3
   },
   "file_extension": ".py",
   "mimetype": "text/x-python",
   "name": "python",
   "nbconvert_exporter": "python",
   "pygments_lexer": "ipython3",
   "version": "3.9.1"
  }
 },
 "nbformat": 4,
 "nbformat_minor": 4
}
