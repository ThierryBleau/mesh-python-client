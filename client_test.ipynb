{
 "cells": [
  {
   "cell_type": "code",
   "execution_count": 1,
   "metadata": {},
   "outputs": [],
   "source": [
    "from mesh import MeshClient\n",
    "creds = {\n",
    "    \"username\":\"thierry\",\n",
    "    \"password\":\"guest\"\n",
    "}\n",
    "mc = MeshClient(**creds)"
   ]
  },
  {
   "cell_type": "code",
   "execution_count": 5,
   "metadata": {
    "scrolled": false
   },
   "outputs": [
    {
     "name": "stdout",
     "output_type": "stream",
     "text": [
      "488331181\n",
      "IN_QUEUE\n",
      "IN_QUEUE\n",
      "IN_QUEUE\n",
      "IN_QUEUE\n",
      "IN_QUEUE\n",
      "IN_QUEUE\n",
      "IN_QUEUE\n",
      "IN_QUEUE\n",
      "IN_QUEUE\n",
      "IN_QUEUE\n"
     ]
    },
    {
     "ename": "KeyboardInterrupt",
     "evalue": "",
     "output_type": "error",
     "traceback": [
      "\u001b[0;31m---------------------------------------------------------------------------\u001b[0m",
      "\u001b[0;31mKeyboardInterrupt\u001b[0m                         Traceback (most recent call last)",
      "\u001b[0;32m<ipython-input-5-ad900b7c8a18>\u001b[0m in \u001b[0;36m<module>\u001b[0;34m\u001b[0m\n\u001b[0;32m----> 1\u001b[0;31m \u001b[0mresult\u001b[0m \u001b[0;34m=\u001b[0m \u001b[0mmc\u001b[0m\u001b[0;34m.\u001b[0m\u001b[0mengine\u001b[0m\u001b[0;34m(\u001b[0m\u001b[0;34m\"$UNIV2.DPI_WETH.DPI_PRICE\"\u001b[0m\u001b[0;34m)\u001b[0m\u001b[0;34m\u001b[0m\u001b[0;34m\u001b[0m\u001b[0m\n\u001b[0m",
      "\u001b[0;32m~/projects/mesh-python-client/mesh.py\u001b[0m in \u001b[0;36mengine\u001b[0;34m(self, mesh_string, time_start, time_end, unit, number, display)\u001b[0m\n\u001b[1;32m     74\u001b[0m             \u001b[0mprint\u001b[0m\u001b[0;34m(\u001b[0m\u001b[0mstatus\u001b[0m\u001b[0;34m.\u001b[0m\u001b[0mcontent\u001b[0m\u001b[0;34m.\u001b[0m\u001b[0mdecode\u001b[0m\u001b[0;34m(\u001b[0m\u001b[0;34m)\u001b[0m\u001b[0;34m)\u001b[0m\u001b[0;34m\u001b[0m\u001b[0;34m\u001b[0m\u001b[0m\n\u001b[1;32m     75\u001b[0m             \u001b[0;32mif\u001b[0m \u001b[0mstatus\u001b[0m\u001b[0;34m.\u001b[0m\u001b[0mcontent\u001b[0m\u001b[0;34m.\u001b[0m\u001b[0mdecode\u001b[0m\u001b[0;34m(\u001b[0m\u001b[0;34m)\u001b[0m \u001b[0;34m!=\u001b[0m \u001b[0;34m'DONE'\u001b[0m\u001b[0;34m:\u001b[0m\u001b[0;34m\u001b[0m\u001b[0;34m\u001b[0m\u001b[0m\n\u001b[0;32m---> 76\u001b[0;31m                 \u001b[0mtime\u001b[0m\u001b[0;34m.\u001b[0m\u001b[0msleep\u001b[0m\u001b[0;34m(\u001b[0m\u001b[0;36m4\u001b[0m\u001b[0;34m)\u001b[0m\u001b[0;34m\u001b[0m\u001b[0;34m\u001b[0m\u001b[0m\n\u001b[0m\u001b[1;32m     77\u001b[0m             \u001b[0;32melse\u001b[0m\u001b[0;34m:\u001b[0m\u001b[0;34m\u001b[0m\u001b[0;34m\u001b[0m\u001b[0m\n\u001b[1;32m     78\u001b[0m                 \u001b[0mresult\u001b[0m \u001b[0;34m=\u001b[0m \u001b[0mr\u001b[0m\u001b[0;34m.\u001b[0m\u001b[0mget\u001b[0m\u001b[0;34m(\u001b[0m\u001b[0mself\u001b[0m\u001b[0;34m.\u001b[0m\u001b[0mrest_url\u001b[0m \u001b[0;34m+\u001b[0m \u001b[0;34m\"fetch\"\u001b[0m\u001b[0;34m,\u001b[0m \u001b[0mparams\u001b[0m\u001b[0;34m=\u001b[0m\u001b[0;34m{\u001b[0m\u001b[0;34m\"id\"\u001b[0m\u001b[0;34m:\u001b[0m\u001b[0midentifier\u001b[0m\u001b[0;34m.\u001b[0m\u001b[0mcontent\u001b[0m\u001b[0;34m.\u001b[0m\u001b[0mdecode\u001b[0m\u001b[0;34m(\u001b[0m\u001b[0;34m)\u001b[0m\u001b[0;34m}\u001b[0m\u001b[0;34m,\u001b[0m\u001b[0mheaders\u001b[0m\u001b[0;34m=\u001b[0m\u001b[0mheaders\u001b[0m\u001b[0;34m)\u001b[0m\u001b[0;34m.\u001b[0m\u001b[0mjson\u001b[0m\u001b[0;34m(\u001b[0m\u001b[0;34m)\u001b[0m\u001b[0;34m\u001b[0m\u001b[0;34m\u001b[0m\u001b[0m\n",
      "\u001b[0;31mKeyboardInterrupt\u001b[0m: "
     ]
    }
   ],
   "source": [
    "result = mc.engine(\"$UNIV2.DPI_WETH.DPI_PRICE\")"
   ]
  },
  {
   "cell_type": "code",
   "execution_count": 4,
   "metadata": {},
   "outputs": [
    {
     "data": {
      "text/plain": [
       "b'{\"data\":{\"search\":[{\"premium\":{\"symbol\":\"OPYNV1.oDPI2021010812500CALL.VOLUME\"},\"name\":\"Opyn V1 DPI $125.00 2021-01-08 Call\",\"address\":\"0xddac24d12dd07e4e2b772cfc64e3eb47e79c74a3\"},{\"name\":\"Uniswap V2 DPI-WETH Pool\",\"address\":\"0x4d5ef58aac27d99935e5b6b4a6778ff292059991\",\"token0Price\":{\"symbol\":\"UNIV2.DPI_WETH.DPI_PRICE\"}},{\"symbol\":\"DPI\",\"name\":\"DefiPulse Index\",\"address\":\"0x1494ca1f11d487c2bbe4543e90080aeba4ba3c2b\"},{\"premium\":{\"symbol\":\"OPYNV1.oDPI202012259000PUT.VOLUME\"},\"name\":\"Opyn V1 DPI $90.00 2020-12-25 Put\",\"address\":\"0xd047035ef71496e2b83dd2063e2fc50a8331873d\"},{\"premium\":{\"symbol\":\"OPYNV1.oDPI2020112010000CALL.VOLUME\"},\"name\":\"Opyn V1 DPI $100.00 2020-11-20 Call\",\"address\":\"0x06e9061947c592f07fb66e569aa3052fa230b068\"},{\"name\":\"Uniswap V2 DPI-ibETH Pool\",\"address\":\"0xf17ca8e4081aba154889bb663e6b0886efa08054\",\"token0Price\":{\"symbol\":\"UNIV2.DPI_ibETH.DPI_PRICE\"}},{\"name\":\"DPI-USD Aggregate\"},{\"premium\":{\"symbol\":\"OPYNV1.oDPI2020112010000CALL.VOLUME\"},\"name\":\"Opyn V1 DPI $100.00 2020-11-20 Call\",\"address\":\"0xf950d2fdfda2914b9414b6f61895a77bf954fe23\"},{\"premium\":{\"symbol\":\"OPYNV1.oDPI2020122510000PUT.VOLUME\"},\"name\":\"Opyn V1 DPI $100.00 2020-12-25 Put\",\"address\":\"0xeb3937eba6f664f36399db5ffe43fc1f5897fafb\"},{\"premium\":{\"symbol\":\"OPYNV1.oDPI202011206000PUT.VOLUME\"},\"name\":\"Opyn V1 DPI $60.00 2020-11-20 Put\",\"address\":\"0x21d2125bbb6eb40c1e004604ee9a0dd1e085337a\"}]}}'"
      ]
     },
     "execution_count": 4,
     "metadata": {},
     "output_type": "execute_result"
    }
   ],
   "source": [
    "mc.search(\"DPI\").content"
   ]
  },
  {
   "cell_type": "code",
   "execution_count": 12,
   "metadata": {},
   "outputs": [
    {
     "data": {
      "text/plain": [
       "'3377748205'"
      ]
     },
     "execution_count": 12,
     "metadata": {},
     "output_type": "execute_result"
    }
   ],
   "source": [
    "from datetime import datetime\n",
    "import requests as r\n",
    "import base64\n",
    "username = \"thierry\"\n",
    "password = \"guest\"\n",
    "encoded_auth = base64.b64encode(f\"{username}:{password}\".encode())\n",
    "auth = f\"Basic {encoded_auth.decode()}\"\n",
    "\n",
    "headers = {\n",
    "  \"Authorization\":auth,\n",
    "  \"Content-Type\":\"application/json\"\n",
    "}\n",
    "params = {\n",
    "    \"expr\":\"$UNIV2.DPI_WETH.DPI_PRICE\",\n",
    "    \"range\":{\n",
    "        \"tstart\":int((datetime.now().timestamp() - 3*86400)),\n",
    "        \"tend\":int(datetime.now().timestamp())},\n",
    "    \"interval\":{\"unit\": \"MINUTE\",\"n\":15}\n",
    "}\n",
    "\n",
    "identifier = r.post(\"https://api.merfi.xyz/api/\"+ \"engine\",json=params,headers=headers)\n",
    "identifier.content.decode()"
   ]
  },
  {
   "cell_type": "code",
   "execution_count": 20,
   "metadata": {},
   "outputs": [
    {
     "data": {
      "text/plain": [
       "b'IN_QUEUE'"
      ]
     },
     "execution_count": 20,
     "metadata": {},
     "output_type": "execute_result"
    }
   ],
   "source": [
    "r.get(\"https://api.merfi.xyz/api/status\",params={\"id\":identifier.content.decode()},headers=headers).content"
   ]
  },
  {
   "cell_type": "code",
   "execution_count": null,
   "metadata": {},
   "outputs": [],
   "source": []
  },
  {
   "cell_type": "code",
   "execution_count": null,
   "metadata": {},
   "outputs": [],
   "source": []
  }
 ],
 "metadata": {
  "kernelspec": {
   "display_name": "Python 3",
   "language": "python",
   "name": "python3"
  },
  "language_info": {
   "codemirror_mode": {
    "name": "ipython",
    "version": 3
   },
   "file_extension": ".py",
   "mimetype": "text/x-python",
   "name": "python",
   "nbconvert_exporter": "python",
   "pygments_lexer": "ipython3",
   "version": "3.8.5"
  }
 },
 "nbformat": 4,
 "nbformat_minor": 4
}
